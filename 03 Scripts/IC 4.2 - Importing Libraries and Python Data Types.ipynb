{
 "cells": [
  {
   "cell_type": "markdown",
   "id": "f8532ce6-d178-4564-9dc0-c181c11346aa",
   "metadata": {},
   "source": [
    "# 01. Importing Libraries"
   ]
  },
  {
   "cell_type": "code",
   "execution_count": 2,
   "id": "40cd6898-c9f1-4f75-abb8-defdb168e863",
   "metadata": {},
   "outputs": [],
   "source": [
    "# Import Libraries\n",
    "import pandas as pd\n",
    "import numpy as np\n",
    "import os"
   ]
  },
  {
   "cell_type": "markdown",
   "id": "de4b289a-32b4-4db0-a36b-98fe18e8d82e",
   "metadata": {},
   "source": [
    "# 02. Data Types"
   ]
  },
  {
   "cell_type": "code",
   "execution_count": 1,
   "id": "01aa94cb-da99-4d2e-973c-3422ab2b4e8f",
   "metadata": {},
   "outputs": [],
   "source": [
    "x = 10"
   ]
  },
  {
   "cell_type": "code",
   "execution_count": 2,
   "id": "d76588f6-f83c-4042-9210-60e9c89d85aa",
   "metadata": {},
   "outputs": [
    {
     "data": {
      "text/plain": [
       "10"
      ]
     },
     "execution_count": 2,
     "metadata": {},
     "output_type": "execute_result"
    }
   ],
   "source": [
    "x"
   ]
  },
  {
   "cell_type": "code",
   "execution_count": 3,
   "id": "75758bd6-4c7a-4fdd-98f3-5c5ae84dcc40",
   "metadata": {},
   "outputs": [
    {
     "data": {
      "text/plain": [
       "int"
      ]
     },
     "execution_count": 3,
     "metadata": {},
     "output_type": "execute_result"
    }
   ],
   "source": [
    "type(x)"
   ]
  },
  {
   "cell_type": "code",
   "execution_count": 4,
   "id": "854dd3e6-1f9d-4682-b4df-1898b63c5cca",
   "metadata": {},
   "outputs": [
    {
     "name": "stdout",
     "output_type": "stream",
     "text": [
      "10\n"
     ]
    }
   ],
   "source": [
    "print(x)"
   ]
  },
  {
   "cell_type": "code",
   "execution_count": 5,
   "id": "dc297b2c-b9d0-48e6-bd3b-98b8e77f6a0d",
   "metadata": {},
   "outputs": [
    {
     "data": {
      "text/plain": [
       "100"
      ]
     },
     "execution_count": 5,
     "metadata": {},
     "output_type": "execute_result"
    }
   ],
   "source": [
    "x + 90"
   ]
  },
  {
   "cell_type": "code",
   "execution_count": 6,
   "id": "55bae562-091c-4586-9a2e-168f8e2868b4",
   "metadata": {},
   "outputs": [],
   "source": [
    "x = x - 87"
   ]
  },
  {
   "cell_type": "code",
   "execution_count": 7,
   "id": "61f77f6f-bf3f-4a5e-9db9-01abce2d08f3",
   "metadata": {},
   "outputs": [
    {
     "name": "stdout",
     "output_type": "stream",
     "text": [
      "-77\n"
     ]
    }
   ],
   "source": [
    "print(x)"
   ]
  },
  {
   "cell_type": "code",
   "execution_count": 8,
   "id": "4389de6e-8218-41c0-8c6b-782d8c18b6a4",
   "metadata": {},
   "outputs": [],
   "source": [
    "x = x + 77 + 100"
   ]
  },
  {
   "cell_type": "code",
   "execution_count": 9,
   "id": "2f0f213c-cc3f-47a0-a546-98596b811eb7",
   "metadata": {},
   "outputs": [
    {
     "name": "stdout",
     "output_type": "stream",
     "text": [
      "100\n"
     ]
    }
   ],
   "source": [
    "print (x)"
   ]
  },
  {
   "cell_type": "code",
   "execution_count": 10,
   "id": "095f6eb3-1911-454a-9ccf-907d844de5ee",
   "metadata": {},
   "outputs": [],
   "source": [
    "y = 2.894"
   ]
  },
  {
   "cell_type": "code",
   "execution_count": 11,
   "id": "5c30c56a-9d22-4069-bfcc-db1da9ec3010",
   "metadata": {},
   "outputs": [
    {
     "data": {
      "text/plain": [
       "float"
      ]
     },
     "execution_count": 11,
     "metadata": {},
     "output_type": "execute_result"
    }
   ],
   "source": [
    "type (y)"
   ]
  },
  {
   "cell_type": "code",
   "execution_count": 12,
   "id": "626bbfb3-2559-49ea-a230-c3cc0928d7f4",
   "metadata": {},
   "outputs": [],
   "source": [
    "z = 5.287"
   ]
  },
  {
   "cell_type": "code",
   "execution_count": 13,
   "id": "500a9dfa-bf4e-4a2c-90e3-1a850784ce50",
   "metadata": {},
   "outputs": [
    {
     "data": {
      "text/plain": [
       "float"
      ]
     },
     "execution_count": 13,
     "metadata": {},
     "output_type": "execute_result"
    }
   ],
   "source": [
    "type (z)"
   ]
  },
  {
   "cell_type": "code",
   "execution_count": 15,
   "id": "ea19b551-9969-49de-b769-c6a8ec07fe49",
   "metadata": {},
   "outputs": [
    {
     "data": {
      "text/plain": [
       "0.5473803669377719"
      ]
     },
     "execution_count": 15,
     "metadata": {},
     "output_type": "execute_result"
    }
   ],
   "source": [
    "y/ z"
   ]
  },
  {
   "cell_type": "code",
   "execution_count": 16,
   "id": "76f4a0dd-4f9c-4842-b8be-6502a612d47f",
   "metadata": {},
   "outputs": [],
   "source": [
    "a = 'free'"
   ]
  },
  {
   "cell_type": "code",
   "execution_count": 17,
   "id": "2004a12e-51bd-41fd-b2c8-77ba5aefddac",
   "metadata": {},
   "outputs": [],
   "source": [
    "b = 'dom'"
   ]
  },
  {
   "cell_type": "code",
   "execution_count": 18,
   "id": "54ce05c3-9d08-4768-8263-d1e2bebb488d",
   "metadata": {},
   "outputs": [
    {
     "data": {
      "text/plain": [
       "'freedom'"
      ]
     },
     "execution_count": 18,
     "metadata": {},
     "output_type": "execute_result"
    }
   ],
   "source": [
    "a + b"
   ]
  },
  {
   "cell_type": "code",
   "execution_count": 19,
   "id": "6e875a68-b0e1-4bca-9b95-218720007339",
   "metadata": {},
   "outputs": [],
   "source": [
    "c = 'Today the weather is'"
   ]
  },
  {
   "cell_type": "code",
   "execution_count": 20,
   "id": "43aec0d3-5d7a-491e-af3c-fba15064733b",
   "metadata": {},
   "outputs": [],
   "source": [
    "d = ' sunny. The sun is shining, but the wind is cold.'"
   ]
  },
  {
   "cell_type": "code",
   "execution_count": 21,
   "id": "3dbec629-6c34-46bc-ba91-471c86555d0a",
   "metadata": {},
   "outputs": [
    {
     "data": {
      "text/plain": [
       "'Today the weather is sunny. The sun is shining, but the wind is cold.'"
      ]
     },
     "execution_count": 21,
     "metadata": {},
     "output_type": "execute_result"
    }
   ],
   "source": [
    "c + d"
   ]
  },
  {
   "cell_type": "code",
   "execution_count": 22,
   "id": "f9a47e82-1027-409d-9b78-b00388860035",
   "metadata": {},
   "outputs": [],
   "source": [
    "e = 'travel'"
   ]
  },
  {
   "cell_type": "code",
   "execution_count": 23,
   "id": "11840bbe-7d52-47ed-86e4-5eea8714330e",
   "metadata": {},
   "outputs": [
    {
     "data": {
      "text/plain": [
       "'traveltraveltraveltraveltraveltraveltraveltraveltraveltraveltraveltraveltraveltraveltraveltraveltraveltraveltraveltraveltraveltraveltraveltraveltraveltraveltraveltraveltraveltraveltraveltraveltraveltraveltraveltraveltraveltraveltraveltraveltraveltraveltraveltraveltraveltraveltraveltraveltraveltraveltraveltraveltraveltraveltraveltraveltraveltraveltraveltraveltraveltraveltraveltraveltraveltraveltraveltraveltraveltraveltraveltraveltraveltraveltraveltraveltraveltraveltraveltraveltraveltraveltraveltraveltraveltraveltraveltraveltraveltraveltraveltraveltraveltraveltraveltraveltraveltraveltraveltravel'"
      ]
     },
     "execution_count": 23,
     "metadata": {},
     "output_type": "execute_result"
    }
   ],
   "source": [
    "e * 100"
   ]
  },
  {
   "cell_type": "code",
   "execution_count": null,
   "id": "8ea865c8-97c4-4cf5-b529-5cfda4594a19",
   "metadata": {},
   "outputs": [],
   "source": []
  }
 ],
 "metadata": {
  "kernelspec": {
   "display_name": "Python 3 (ipykernel)",
   "language": "python",
   "name": "python3"
  },
  "language_info": {
   "codemirror_mode": {
    "name": "ipython",
    "version": 3
   },
   "file_extension": ".py",
   "mimetype": "text/x-python",
   "name": "python",
   "nbconvert_exporter": "python",
   "pygments_lexer": "ipython3",
   "version": "3.11.5"
  }
 },
 "nbformat": 4,
 "nbformat_minor": 5
}
